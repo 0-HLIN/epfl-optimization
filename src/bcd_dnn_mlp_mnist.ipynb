{
 "cells": [
  {
   "cell_type": "markdown",
   "metadata": {},
   "source": [
    "# Reinplementation of Block Coordinate Descent (BCD) Algorithm for Training DNNs (3-layer MLP) for MNIST in PyTorch"
   ]
  },
  {
   "cell_type": "markdown",
   "metadata": {},
   "source": [
    "## Import libraries"
   ]
  },
  {
   "cell_type": "code",
   "execution_count": 1,
   "metadata": {},
   "outputs": [
    {
     "name": "stdout",
     "output_type": "stream",
     "text": [
      "PyTorch Version: 1.1.0\n",
      "Torchvision Version: 0.2.2\n",
      "GPU is available? True\n"
     ]
    }
   ],
   "source": [
    "\"\"\"\n",
    "5 runs of 50 epochs, seed = 10, 20, 30, 40, 50; \n",
    "validation accuracies: 0.9492, 0.9457, 0.9463, 0.9439, 0.9455\n",
    "\"\"\"\n",
    "from __future__ import print_function, division\n",
    "import numpy as np\n",
    "import pandas as pd\n",
    "import torch\n",
    "import torch.nn as nn\n",
    "import torch.nn.functional as F\n",
    "from torch.autograd import Variable\n",
    "import torch.optim as optim\n",
    "import torchvision\n",
    "from torchvision import datasets, models, transforms, utils\n",
    "from torch.utils.data import Dataset, DataLoader\n",
    "import matplotlib.pyplot as plt\n",
    "import time\n",
    "import os\n",
    "import copy\n",
    "\n",
    "print(\"PyTorch Version:\", torch.__version__)\n",
    "print(\"Torchvision Version:\", torchvision.__version__)\n",
    "print(\"GPU is available?\", torch.cuda.is_available())"
   ]
  },
  {
   "cell_type": "markdown",
   "metadata": {},
   "source": [
    "## Read in MNIST dataset"
   ]
  },
  {
   "cell_type": "code",
   "execution_count": 2,
   "metadata": {},
   "outputs": [
    {
     "name": "stdout",
     "output_type": "stream",
     "text": [
      "Downloading http://yann.lecun.com/exdb/mnist/train-images-idx3-ubyte.gz to ../data/MNIST/raw/train-images-idx3-ubyte.gz\n"
     ]
    },
    {
     "name": "stderr",
     "output_type": "stream",
     "text": [
      "9920512it [00:00, 9999488.89it/s]                             \n"
     ]
    },
    {
     "name": "stdout",
     "output_type": "stream",
     "text": [
      "Extracting ../data/MNIST/raw/train-images-idx3-ubyte.gz\n"
     ]
    },
    {
     "name": "stderr",
     "output_type": "stream",
     "text": [
      "  0%|          | 0/28881 [00:00<?, ?it/s]"
     ]
    },
    {
     "name": "stdout",
     "output_type": "stream",
     "text": [
      "Downloading http://yann.lecun.com/exdb/mnist/train-labels-idx1-ubyte.gz to ../data/MNIST/raw/train-labels-idx1-ubyte.gz\n"
     ]
    },
    {
     "name": "stderr",
     "output_type": "stream",
     "text": [
      "32768it [00:00, 112308.93it/s]           \n",
      "0it [00:00, ?it/s]"
     ]
    },
    {
     "name": "stdout",
     "output_type": "stream",
     "text": [
      "Extracting ../data/MNIST/raw/train-labels-idx1-ubyte.gz\n",
      "Downloading http://yann.lecun.com/exdb/mnist/t10k-images-idx3-ubyte.gz to ../data/MNIST/raw/t10k-images-idx3-ubyte.gz\n"
     ]
    },
    {
     "name": "stderr",
     "output_type": "stream",
     "text": [
      "1654784it [00:00, 1771405.76it/s]                            \n",
      "0it [00:00, ?it/s]"
     ]
    },
    {
     "name": "stdout",
     "output_type": "stream",
     "text": [
      "Extracting ../data/MNIST/raw/t10k-images-idx3-ubyte.gz\n",
      "Downloading http://yann.lecun.com/exdb/mnist/t10k-labels-idx1-ubyte.gz to ../data/MNIST/raw/t10k-labels-idx1-ubyte.gz\n"
     ]
    },
    {
     "name": "stderr",
     "output_type": "stream",
     "text": [
      "8192it [00:00, 40364.86it/s]            \n"
     ]
    },
    {
     "name": "stdout",
     "output_type": "stream",
     "text": [
      "Extracting ../data/MNIST/raw/t10k-labels-idx1-ubyte.gz\n",
      "Processing...\n",
      "Done!\n"
     ]
    }
   ],
   "source": [
    "dtype = torch.float\n",
    "device = torch.device(\"cuda:0\" if torch.cuda.is_available() else \"cpu\")\n",
    "\n",
    "# Convert to tensor and scale to [0, 1]\n",
    "ts = transforms.Compose([transforms.ToTensor(), transforms.Normalize((0,), (1,))])\n",
    "mnist_trainset = datasets.MNIST('../data', train=True, download=True, transform=ts)\n",
    "mnist_testset = datasets.MNIST(root='../data', train=False, download=True, transform=ts)"
   ]
  },
  {
   "cell_type": "markdown",
   "metadata": {},
   "source": [
    "## Data manipulation"
   ]
  },
  {
   "cell_type": "code",
   "execution_count": 3,
   "metadata": {},
   "outputs": [],
   "source": [
    "# Manipulate train set\n",
    "x_d0 = mnist_trainset[0][0].size()[0]\n",
    "x_d1 = mnist_trainset[0][0].size()[1]\n",
    "x_d2 = mnist_trainset[0][0].size()[2]\n",
    "N = x_d3 = len(mnist_trainset)\n",
    "K = 10\n",
    "x_train = torch.empty((N,x_d0*x_d1*x_d2), device=device)\n",
    "y_train = torch.empty(N, dtype=torch.long)\n",
    "for i in range(N): \n",
    "     x_train[i,:] = torch.reshape(mnist_trainset[i][0], (1, x_d0*x_d1*x_d2))\n",
    "     y_train[i] = mnist_trainset[i][1]\n",
    "x_train = torch.t(x_train)\n",
    "y_one_hot = torch.zeros(N, K).scatter_(1, torch.reshape(y_train, (N, 1)), 1)\n",
    "y_one_hot = torch.t(y_one_hot).to(device=device)\n",
    "y_train = y_train.to(device=device)\n",
    "\n",
    "# Manipulate test set\n",
    "N_test = x_d3_test = len(mnist_testset)\n",
    "x_test = torch.empty((N_test,x_d0*x_d1*x_d2), device=device)\n",
    "y_test = torch.empty(N_test, dtype=torch.long)\n",
    "for i in range(N_test): \n",
    "     x_test[i,:] = torch.reshape(mnist_testset[i][0], (1, x_d0*x_d1*x_d2))\n",
    "     y_test[i] = mnist_testset[i][1]\n",
    "x_test = torch.t(x_test)\n",
    "y_test_one_hot = torch.zeros(N_test, K).scatter_(1, torch.reshape(y_test, (N_test, 1)), 1)\n",
    "y_test_one_hot = torch.t(y_test_one_hot).to(device=device)\n",
    "y_test = y_test.to(device=device)"
   ]
  },
  {
   "cell_type": "markdown",
   "metadata": {},
   "source": [
    "## Main algorithm (Jinshan's Algorithm in Zeng et al (2018))"
   ]
  },
  {
   "cell_type": "markdown",
   "metadata": {},
   "source": [
    "### Parameter initialization"
   ]
  },
  {
   "cell_type": "code",
   "execution_count": 4,
   "metadata": {},
   "outputs": [],
   "source": [
    "seed = 40\n",
    "torch.manual_seed(seed)\n",
    "if torch.cuda.is_available():\n",
    "    torch.manual_seed(seed)\n",
    "d0 = x_d0*x_d1*x_d2\n",
    "d1 = d2 = d3 = 1500\n",
    "d4 = K # Layers: input + 3 hidden + output\n",
    "W1 = 0.01*torch.randn(d1, d0, device=device)\n",
    "b1 = 0.1*torch.ones(d1, 1, device=device)\n",
    "W2 = 0.01*torch.randn(d2, d1, device=device)\n",
    "b2 = 0.1*torch.ones(d2, 1, device=device)\n",
    "W3 = 0.01*torch.randn(d3, d2, device=device)\n",
    "b3 = 0.1*torch.ones(d3, 1, device=device)\n",
    "W4 = 0.01*torch.randn(d4, d3, device=device)\n",
    "b4 = 0.1*torch.ones(d4, 1, device=device)\n",
    "\n",
    "U1 = torch.addmm(b1.repeat(1, N), W1, x_train)\n",
    "V1 = nn.ReLU()(U1)\n",
    "U2 = torch.addmm(b2.repeat(1, N), W2, V1)\n",
    "V2 = nn.ReLU()(U2)\n",
    "U3 = torch.addmm(b3.repeat(1, N), W3, V2)\n",
    "V3 = nn.ReLU()(U3) \n",
    "U4 = torch.addmm(b4.repeat(1, N), W4, V3)\n",
    "V4 = U4\n",
    "\n",
    "gamma = 1\n",
    "gamma1 = gamma2 = gamma3 = gamma4 = gamma\n",
    "\n",
    "rho = 1\n",
    "rho1 = rho2 = rho3 = rho4 = rho\n",
    "\n",
    "\n",
    "alpha = 5\n",
    "alpha1 = alpha2 = alpha3 = alpha4 = alpha5 = alpha6 = alpha7 \\\n",
    "= alpha8 = alpha9 = alpha10 = alpha\n",
    "\n",
    "niter = 50\n",
    "loss1 = np.empty(niter)\n",
    "loss2 = np.empty(niter)\n",
    "accuracy_train = np.empty(niter)\n",
    "accuracy_test = np.empty(niter)\n",
    "time1 = np.empty(niter)"
   ]
  },
  {
   "cell_type": "markdown",
   "metadata": {},
   "source": [
    "### Define functions for updating blocks"
   ]
  },
  {
   "cell_type": "code",
   "execution_count": 5,
   "metadata": {},
   "outputs": [],
   "source": [
    "def updateV(U1,U2,W,b,rho,gamma): \n",
    "    _, d = W.size()\n",
    "    I = torch.eye(d, device=device)\n",
    "    U1 = nn.ReLU()(U1)\n",
    "    _, col_U2 = U2.size()\n",
    "    Vstar = torch.mm(torch.inverse(rho*(torch.mm(torch.t(W),W))+gamma*I), rho*torch.mm(torch.t(W),U2-b.repeat(1,col_U2))+gamma*U1)\n",
    "    return Vstar"
   ]
  },
  {
   "cell_type": "code",
   "execution_count": 6,
   "metadata": {},
   "outputs": [],
   "source": [
    "def updateWb(U, V, W, b, alpha, rho): \n",
    "    d,N = V.size()\n",
    "    I = torch.eye(d, device=device)\n",
    "    _, col_U = U.size()\n",
    "    Wstar = torch.mm(alpha*W+rho*torch.mm(U-b.repeat(1,col_U),torch.t(V)),torch.inverse(alpha*I+rho*(torch.mm(V,torch.t(V)))))\n",
    "    bstar = (alpha*b+rho*torch.sum(U-torch.mm(W,V), dim=1).reshape(b.size()))/(rho*N+alpha)\n",
    "    return Wstar, bstar"
   ]
  },
  {
   "cell_type": "markdown",
   "metadata": {},
   "source": [
    "### Define the proximal operator of the ReLU activation function"
   ]
  },
  {
   "cell_type": "code",
   "execution_count": 7,
   "metadata": {},
   "outputs": [],
   "source": [
    "def relu_prox(a, b, gamma, d, N):\n",
    "    val = torch.empty(d,N, device=device)\n",
    "    x = (a+gamma*b)/(1+gamma)\n",
    "    y = torch.min(b,torch.zeros(d,N, device=device))\n",
    "\n",
    "    val = torch.where(a+gamma*b < 0, y, torch.zeros(d,N, device=device))\n",
    "    val = torch.where(((a+gamma*b >= 0) & (b >=0)) | ((a*(gamma-np.sqrt(gamma*(gamma+1))) <= gamma*b) & (b < 0)), x, val)\n",
    "    val = torch.where((-a <= gamma*b) & (gamma*b <= a*(gamma-np.sqrt(gamma*(gamma+1)))), b, val)\n",
    "    return val"
   ]
  },
  {
   "cell_type": "markdown",
   "metadata": {},
   "source": [
    "### Training algorithm"
   ]
  },
  {
   "cell_type": "code",
   "execution_count": 8,
   "metadata": {},
   "outputs": [
    {
     "name": "stdout",
     "output_type": "stream",
     "text": [
      "Train on 60000 samples, validate on 10000 samples\n",
      "Epoch 1 / 50 \n",
      " - time: 3.443815231323242 - sq_loss: 20286.423828125 - tot_loss: 20314.91462197248 - acc: 0.13435 - val_acc: 0.1326\n",
      "Epoch 2 / 50 \n",
      " - time: 1.8649756908416748 - sq_loss: 15321.1953125 - tot_loss: 15332.77514443826 - acc: 0.7184333333333334 - val_acc: 0.7266\n",
      "Epoch 3 / 50 \n",
      " - time: 1.875713586807251 - sq_loss: 11774.9140625 - tot_loss: 11782.538913727738 - acc: 0.8724 - val_acc: 0.8773\n",
      "Epoch 4 / 50 \n",
      " - time: 1.8710741996765137 - sq_loss: 9107.599609375 - tot_loss: 9114.262744601816 - acc: 0.9029833333333334 - val_acc: 0.9074\n",
      "Epoch 5 / 50 \n",
      " - time: 1.882650375366211 - sq_loss: 7059.7607421875 - tot_loss: 7066.023923350498 - acc: 0.91305 - val_acc: 0.9137\n",
      "Epoch 6 / 50 \n",
      " - time: 1.8721821308135986 - sq_loss: 5475.943359375 - tot_loss: 5482.097131313756 - acc: 0.9198666666666667 - val_acc: 0.9197\n",
      "Epoch 7 / 50 \n",
      " - time: 1.8659634590148926 - sq_loss: 4247.96533203125 - tot_loss: 4253.651355717331 - acc: 0.9241 - val_acc: 0.9236\n",
      "Epoch 8 / 50 \n",
      " - time: 1.8888959884643555 - sq_loss: 3295.208984375 - tot_loss: 3300.258102044463 - acc: 0.9279833333333334 - val_acc: 0.9274\n",
      "Epoch 9 / 50 \n",
      " - time: 1.882845163345337 - sq_loss: 2555.9384765625 - tot_loss: 2561.0841059163213 - acc: 0.9310166666666667 - val_acc: 0.9304\n",
      "Epoch 10 / 50 \n",
      " - time: 1.892404556274414 - sq_loss: 1982.3875732421875 - tot_loss: 1988.0786530263722 - acc: 0.9339333333333333 - val_acc: 0.9323\n",
      "Epoch 11 / 50 \n",
      " - time: 1.8759338855743408 - sq_loss: 1537.46240234375 - tot_loss: 1542.9731038212776 - acc: 0.9364166666666667 - val_acc: 0.9347\n",
      "Epoch 12 / 50 \n",
      " - time: 1.9000275135040283 - sq_loss: 1192.3582763671875 - tot_loss: 1197.5379307046533 - acc: 0.9387166666666666 - val_acc: 0.9369\n",
      "Epoch 13 / 50 \n",
      " - time: 1.8930187225341797 - sq_loss: 924.7039184570312 - tot_loss: 929.0072517618537 - acc: 0.94035 - val_acc: 0.9387\n",
      "Epoch 14 / 50 \n",
      " - time: 1.905113935470581 - sq_loss: 717.1289672851562 - tot_loss: 721.5264957845211 - acc: 0.9421333333333334 - val_acc: 0.9406\n",
      "Epoch 15 / 50 \n",
      " - time: 1.8874390125274658 - sq_loss: 556.1534423828125 - tot_loss: 560.1280899941921 - acc: 0.9437833333333333 - val_acc: 0.9415\n",
      "Epoch 16 / 50 \n",
      " - time: 1.8928561210632324 - sq_loss: 431.3181457519531 - tot_loss: 435.94039379805326 - acc: 0.94475 - val_acc: 0.9421\n",
      "Epoch 17 / 50 \n",
      " - time: 1.8934319019317627 - sq_loss: 334.5093688964844 - tot_loss: 338.3840951099992 - acc: 0.9459833333333333 - val_acc: 0.9427\n",
      "Epoch 18 / 50 \n",
      " - time: 1.8834612369537354 - sq_loss: 259.4361572265625 - tot_loss: 263.21906862035394 - acc: 0.9468 - val_acc: 0.9437\n",
      "Epoch 19 / 50 \n",
      " - time: 1.8930518627166748 - sq_loss: 201.2185821533203 - tot_loss: 204.8455546796322 - acc: 0.9477 - val_acc: 0.9451\n",
      "Epoch 20 / 50 \n",
      " - time: 1.887047290802002 - sq_loss: 156.07131958007812 - tot_loss: 159.74585608392954 - acc: 0.9487 - val_acc: 0.945\n",
      "Epoch 21 / 50 \n",
      " - time: 1.881147861480713 - sq_loss: 121.05842590332031 - tot_loss: 124.8889821972698 - acc: 0.9494333333333334 - val_acc: 0.9463\n",
      "Epoch 22 / 50 \n",
      " - time: 1.8815324306488037 - sq_loss: 93.90476989746094 - tot_loss: 98.10169386304915 - acc: 0.9502 - val_acc: 0.9469\n",
      "Epoch 23 / 50 \n",
      " - time: 1.892747402191162 - sq_loss: 72.84552764892578 - tot_loss: 77.88354758825153 - acc: 0.9505 - val_acc: 0.9468\n",
      "Epoch 24 / 50 \n",
      " - time: 1.9027435779571533 - sq_loss: 56.512725830078125 - tot_loss: 61.44997664634138 - acc: 0.9513 - val_acc: 0.9473\n",
      "Epoch 25 / 50 \n",
      " - time: 1.9008114337921143 - sq_loss: 43.84478759765625 - tot_loss: 48.666438589803874 - acc: 0.9516833333333333 - val_acc: 0.9467\n",
      "Epoch 26 / 50 \n",
      " - time: 1.8886680603027344 - sq_loss: 34.01934814453125 - tot_loss: 39.53347892407328 - acc: 0.9521333333333334 - val_acc: 0.9472\n",
      "Epoch 27 / 50 \n",
      " - time: 1.8928096294403076 - sq_loss: 26.39779281616211 - tot_loss: 31.52113543264568 - acc: 0.9523833333333334 - val_acc: 0.9472\n",
      "Epoch 28 / 50 \n",
      " - time: 1.8984296321868896 - sq_loss: 20.48578453063965 - tot_loss: 24.70913192210719 - acc: 0.95285 - val_acc: 0.9476\n",
      "Epoch 29 / 50 \n",
      " - time: 1.8893508911132812 - sq_loss: 15.899256706237793 - tot_loss: 19.894942473620176 - acc: 0.9529333333333333 - val_acc: 0.9479\n",
      "Epoch 30 / 50 \n",
      " - time: 1.9068946838378906 - sq_loss: 12.34107780456543 - tot_loss: 16.062518237158656 - acc: 0.9534833333333333 - val_acc: 0.9475\n",
      "Epoch 31 / 50 \n",
      " - time: 1.90267014503479 - sq_loss: 9.580387115478516 - tot_loss: 13.112596201244742 - acc: 0.9537166666666667 - val_acc: 0.9479\n",
      "Epoch 32 / 50 \n",
      " - time: 1.920910120010376 - sq_loss: 7.438293933868408 - tot_loss: 12.376212724018842 - acc: 0.95355 - val_acc: 0.9478\n",
      "Epoch 33 / 50 \n",
      " - time: 1.9107739925384521 - sq_loss: 5.776012897491455 - tot_loss: 9.397989685414359 - acc: 0.9542166666666667 - val_acc: 0.9476\n",
      "Epoch 34 / 50 \n",
      " - time: 1.8954205513000488 - sq_loss: 4.486121654510498 - tot_loss: 8.077331793028861 - acc: 0.9542 - val_acc: 0.9475\n",
      "Epoch 35 / 50 \n",
      " - time: 1.8775694370269775 - sq_loss: 3.4848897457122803 - tot_loss: 7.018654678249732 - acc: 0.9543833333333334 - val_acc: 0.9479\n",
      "Epoch 36 / 50 \n",
      " - time: 1.879824161529541 - sq_loss: 2.7076473236083984 - tot_loss: 7.205644817091525 - acc: 0.9544333333333334 - val_acc: 0.9475\n",
      "Epoch 37 / 50 \n",
      " - time: 1.8937461376190186 - sq_loss: 2.104257822036743 - tot_loss: 5.791091911261901 - acc: 0.9543 - val_acc: 0.9476\n",
      "Epoch 38 / 50 \n",
      " - time: 1.8986947536468506 - sq_loss: 1.635750412940979 - tot_loss: 5.474334687460214 - acc: 0.9546666666666667 - val_acc: 0.948\n",
      "Epoch 39 / 50 \n",
      " - time: 1.9070637226104736 - sq_loss: 1.271923542022705 - tot_loss: 5.584914095699787 - acc: 0.95435 - val_acc: 0.9466\n",
      "Epoch 40 / 50 \n",
      " - time: 1.917299747467041 - sq_loss: 0.9893519878387451 - tot_loss: 7.039074925007299 - acc: 0.9548166666666666 - val_acc: 0.9456\n",
      "Epoch 41 / 50 \n",
      " - time: 1.9000108242034912 - sq_loss: 0.7698408365249634 - tot_loss: 5.180192447151057 - acc: 0.95455 - val_acc: 0.9467\n",
      "Epoch 42 / 50 \n",
      " - time: 1.893810510635376 - sq_loss: 0.5992546081542969 - tot_loss: 5.336314072366804 - acc: 0.9550333333333333 - val_acc: 0.9463\n",
      "Epoch 43 / 50 \n",
      " - time: 1.903158187866211 - sq_loss: 0.46670690178871155 - tot_loss: 4.418537897057831 - acc: 0.9546333333333333 - val_acc: 0.9466\n",
      "Epoch 44 / 50 \n",
      " - time: 1.9072661399841309 - sq_loss: 0.3636886179447174 - tot_loss: 3.7314271280774847 - acc: 0.9547166666666667 - val_acc: 0.9463\n",
      "Epoch 45 / 50 \n",
      " - time: 1.9725348949432373 - sq_loss: 0.28357717394828796 - tot_loss: 3.792494772351347 - acc: 0.9545166666666667 - val_acc: 0.946\n",
      "Epoch 46 / 50 \n",
      " - time: 1.8982903957366943 - sq_loss: 0.22126105427742004 - tot_loss: 3.651754887891002 - acc: 0.9548666666666666 - val_acc: 0.9462\n",
      "Epoch 47 / 50 \n",
      " - time: 1.9537179470062256 - sq_loss: 0.17277832329273224 - tot_loss: 4.150596417370252 - acc: 0.9545666666666667 - val_acc: 0.9451\n",
      "Epoch 48 / 50 \n",
      " - time: 1.921360731124878 - sq_loss: 0.13504205644130707 - tot_loss: 3.711824556114152 - acc: 0.9546333333333333 - val_acc: 0.9458\n",
      "Epoch 49 / 50 \n",
      " - time: 1.9410412311553955 - sq_loss: 0.10566090047359467 - tot_loss: 3.6768735891673714 - acc: 0.9544666666666667 - val_acc: 0.945\n",
      "Epoch 50 / 50 \n",
      " - time: 1.955075740814209 - sq_loss: 0.0827653706073761 - tot_loss: 4.631193251814693 - acc: 0.9544 - val_acc: 0.9452\n"
     ]
    }
   ],
   "source": [
    "# Iterations\n",
    "print('Train on', N, 'samples, validate on', N_test, 'samples')\n",
    "for k in range(niter):\n",
    "    start = time.time()\n",
    "\n",
    "    # update V4\n",
    "    V4 = (y_one_hot + gamma4*U4 + alpha1*V4)/(1 + gamma4 + alpha1)\n",
    "    \n",
    "    # update U4 \n",
    "    U4 = (gamma4*V4 + rho4*(torch.mm(W4,V3) + b4.repeat(1,N)))/(gamma4 + rho4)\n",
    "\n",
    "    # update W4 and b4\n",
    "    W4, b4 = updateWb(U4,V3,W4,b4,alpha2,rho4)\n",
    "    \n",
    "    # update V3\n",
    "    V3 = updateV(U3,U4,W4,b4,rho4,gamma3)\n",
    "    \n",
    "    # update U3\n",
    "    U3 = relu_prox(V3,(rho3*torch.addmm(b3.repeat(1,N), W3, V2) + alpha3*U3)/(rho3 + alpha3),(rho3 + alpha3)/gamma3,d3,N)\n",
    "    \n",
    "    # update W3 and b3\n",
    "    W3, b3 = updateWb(U3,V2,W3,b3,alpha4,rho3)\n",
    "    \n",
    "    # update V2\n",
    "    V2 = updateV(U2,U3,W3,b3,rho3,gamma2)\n",
    "    \n",
    "    # update U2\n",
    "    U2 = relu_prox(V2,(rho2*torch.addmm(b2.repeat(1,N), W2, V1) + alpha5*U2)/(rho2 + alpha5),(rho2 + alpha5)/gamma2,d2,N)\n",
    "    \n",
    "    # update W2 and b2\n",
    "    W2, b2 = updateWb(U2,V1,W2,b2,alpha6,rho2)\n",
    "\n",
    "    # update V1\n",
    "    V1 = updateV(U1,U2,W2,b2,rho2,gamma1)\n",
    "    \n",
    "    # update U1\n",
    "    U1 = relu_prox(V1,(rho1*torch.addmm(b1.repeat(1,N), W1, x_train) + alpha7*U1)/(rho1 + alpha7),(rho1 + alpha7)/gamma1,d1,N)\n",
    "\n",
    "    # update W1 and b1\n",
    "    W1, b1 = updateWb(U1,x_train,W1,b1,alpha8,rho1)\n",
    "\n",
    "    a1_train = nn.ReLU()(torch.addmm(b1.repeat(1, N), W1, x_train))\n",
    "    a2_train = nn.ReLU()(torch.addmm(b2.repeat(1, N), W2, a1_train))\n",
    "    a3_train = nn.ReLU()(torch.addmm(b3.repeat(1, N), W3, a2_train))\n",
    "    #print(torch.addmm(b4.repeat(1, N), W4, a3_train))\n",
    "    pred = torch.argmax(torch.addmm(b4.repeat(1, N), W4, a3_train), dim=0)\n",
    "\n",
    "    a1_test = nn.ReLU()(torch.addmm(b1.repeat(1, N_test), W1, x_test))\n",
    "    a2_test = nn.ReLU()(torch.addmm(b2.repeat(1, N_test), W2, a1_test))\n",
    "    a3_test = nn.ReLU()(torch.addmm(b3.repeat(1, N_test), W3, a2_test))\n",
    "    pred_test = torch.argmax(torch.addmm(b4.repeat(1, N_test), W4, a3_test), dim=0)\n",
    "    \n",
    "    loss1[k] = gamma4/2*torch.pow(torch.dist(V4,y_one_hot,2),2).cpu().numpy()\n",
    "    loss2[k] = loss1[k] + rho1/2*torch.pow(torch.dist(torch.addmm(b1.repeat(1,N), W1, x_train),U1,2),2).cpu().numpy() \\\n",
    "    +rho2/2*torch.pow(torch.dist(torch.addmm(b2.repeat(1,N), W2, V1),U2,2),2).cpu().numpy() \\\n",
    "    +rho3/2*torch.pow(torch.dist(torch.addmm(b3.repeat(1,N), W3, V2),U3,2),2).cpu().numpy() \\\n",
    "    +rho4/2*torch.pow(torch.dist(torch.addmm(b4.repeat(1,N), W4, V3),U4,2),2).cpu().numpy()\n",
    "    \n",
    "    # compute training accuracy\n",
    "    correct_train = pred == y_train\n",
    "    accuracy_train[k] = np.mean(correct_train.cpu().numpy())\n",
    "    \n",
    "    # compute validation accuracy\n",
    "    correct_test = pred_test == y_test\n",
    "    accuracy_test[k] = np.mean(correct_test.cpu().numpy())\n",
    "    \n",
    "    # compute training time\n",
    "    stop = time.time()\n",
    "    duration = stop - start\n",
    "    time1[k] = duration\n",
    "    \n",
    "    # print results\n",
    "    print('Epoch', k + 1, '/', niter, '\\n', \n",
    "          '-', 'time:', time1[k], '-', 'sq_loss:', loss1[k], '-', 'tot_loss:', loss2[k], \n",
    "          '-', 'acc:', accuracy_train[k], '-', 'val_acc:', accuracy_test[k])"
   ]
  },
  {
   "cell_type": "markdown",
   "metadata": {},
   "source": [
    "### Visualization of training results"
   ]
  },
  {
   "cell_type": "code",
   "execution_count": 9,
   "metadata": {},
   "outputs": [
    {
     "data": {
      "text/plain": [
       "Text(0.5,1,'accuracy')"
      ]
     },
     "execution_count": 9,
     "metadata": {},
     "output_type": "execute_result"
    },
    {
     "data": {
      "image/png": "[encoded data removed]",
      "text/plain": [
       "<Figure size 432x288 with 1 Axes>"
      ]
     },
     "metadata": {},
     "output_type": "display_data"
    },
    {
     "data": {
      "image/png": "[encoded data removed]",
      "text/plain": [
       "<Figure size 432x288 with 1 Axes>"
      ]
     },
     "metadata": {},
     "output_type": "display_data"
    }
   ],
   "source": [
    "plt.figure()\n",
    "plt.plot(np.arange(1,niter+1), loss2)\n",
    "plt.title('training loss')\n",
    "\n",
    "plt.figure()\n",
    "plt.plot(np.arange(1,niter+1), accuracy_train)\n",
    "plt.plot(np.arange(1,niter+1), accuracy_test)\n",
    "plt.title('accuracy')"
   ]
  }
 ],
 "metadata": {
  "kernelspec": {
   "display_name": "Python 3",
   "language": "python",
   "name": "python3"
  },
  "language_info": {
   "codemirror_mode": {
    "name": "ipython",
    "version": 3
   },
   "file_extension": ".py",
   "mimetype": "text/x-python",
   "name": "python",
   "nbconvert_exporter": "python",
   "pygments_lexer": "ipython3",
   "version": "3.6.6"
  }
 },
 "nbformat": 4,
 "nbformat_minor": 2
}
